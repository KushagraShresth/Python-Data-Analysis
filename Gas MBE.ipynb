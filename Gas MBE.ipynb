{
 "cells": [
  {
   "cell_type": "code",
   "execution_count": 4,
   "metadata": {},
   "outputs": [],
   "source": [
    "import numpy as np\n",
    "import matplotlib.pyplot as plt\n",
    "import pandas as pd"
   ]
  },
  {
   "cell_type": "code",
   "execution_count": 32,
   "metadata": {},
   "outputs": [
    {
     "data": {
      "text/html": [
       "<div>\n",
       "<style scoped>\n",
       "    .dataframe tbody tr th:only-of-type {\n",
       "        vertical-align: middle;\n",
       "    }\n",
       "\n",
       "    .dataframe tbody tr th {\n",
       "        vertical-align: top;\n",
       "    }\n",
       "\n",
       "    .dataframe thead th {\n",
       "        text-align: right;\n",
       "    }\n",
       "</style>\n",
       "<table border=\"1\" class=\"dataframe\">\n",
       "  <thead>\n",
       "    <tr style=\"text-align: right;\">\n",
       "      <th></th>\n",
       "      <th>Time(years)</th>\n",
       "      <th>Reservoir Pressure(psia)</th>\n",
       "      <th>Z</th>\n",
       "      <th>Cumulative Gas Produced Gp(MMSCF)</th>\n",
       "    </tr>\n",
       "  </thead>\n",
       "  <tbody>\n",
       "    <tr>\n",
       "      <td>0</td>\n",
       "      <td>0.0</td>\n",
       "      <td>1798</td>\n",
       "      <td>0.869</td>\n",
       "      <td>0.00</td>\n",
       "    </tr>\n",
       "    <tr>\n",
       "      <td>1</td>\n",
       "      <td>0.5</td>\n",
       "      <td>1680</td>\n",
       "      <td>0.870</td>\n",
       "      <td>0.96</td>\n",
       "    </tr>\n",
       "    <tr>\n",
       "      <td>2</td>\n",
       "      <td>1.0</td>\n",
       "      <td>1540</td>\n",
       "      <td>0.880</td>\n",
       "      <td>2.12</td>\n",
       "    </tr>\n",
       "    <tr>\n",
       "      <td>3</td>\n",
       "      <td>1.5</td>\n",
       "      <td>1428</td>\n",
       "      <td>0.890</td>\n",
       "      <td>3.21</td>\n",
       "    </tr>\n",
       "    <tr>\n",
       "      <td>4</td>\n",
       "      <td>2.0</td>\n",
       "      <td>1335</td>\n",
       "      <td>0.900</td>\n",
       "      <td>3.92</td>\n",
       "    </tr>\n",
       "  </tbody>\n",
       "</table>\n",
       "</div>"
      ],
      "text/plain": [
       "   Time(years)  Reservoir Pressure(psia)      Z  \\\n",
       "0          0.0                      1798  0.869   \n",
       "1          0.5                      1680  0.870   \n",
       "2          1.0                      1540  0.880   \n",
       "3          1.5                      1428  0.890   \n",
       "4          2.0                      1335  0.900   \n",
       "\n",
       "   Cumulative Gas Produced Gp(MMSCF)  \n",
       "0                               0.00  \n",
       "1                               0.96  \n",
       "2                               2.12  \n",
       "3                               3.21  \n",
       "4                               3.92  "
      ]
     },
     "execution_count": 32,
     "metadata": {},
     "output_type": "execute_result"
    }
   ],
   "source": [
    "df=pd.DataFrame({'Time(years)':[0.0,0.5,1,1.5,2.0], 'Reservoir Pressure(psia)':[1798,1680,1540,1428,1335],\n",
    "                 'Z':[0.869,0.870,0.880,0.890,.900],'Cumulative Gas Produced Gp(MMSCF)':[0.00,0.96,2.12,3.21,3.92]})\n",
    "df\n"
   ]
  },
  {
   "cell_type": "code",
   "execution_count": 6,
   "metadata": {},
   "outputs": [
    {
     "data": {
      "text/html": [
       "<div>\n",
       "<style scoped>\n",
       "    .dataframe tbody tr th:only-of-type {\n",
       "        vertical-align: middle;\n",
       "    }\n",
       "\n",
       "    .dataframe tbody tr th {\n",
       "        vertical-align: top;\n",
       "    }\n",
       "\n",
       "    .dataframe thead th {\n",
       "        text-align: right;\n",
       "    }\n",
       "</style>\n",
       "<table border=\"1\" class=\"dataframe\">\n",
       "  <thead>\n",
       "    <tr style=\"text-align: right;\">\n",
       "      <th></th>\n",
       "      <th>Time(years)</th>\n",
       "      <th>Reservoir Pressure(psia)</th>\n",
       "      <th>Z</th>\n",
       "      <th>Cumulative Gas Produced Gp(MMSCF)</th>\n",
       "      <th>P/Z</th>\n",
       "    </tr>\n",
       "  </thead>\n",
       "  <tbody>\n",
       "    <tr>\n",
       "      <td>0</td>\n",
       "      <td>0.0</td>\n",
       "      <td>1798</td>\n",
       "      <td>0.869</td>\n",
       "      <td>0.00</td>\n",
       "      <td>2069.044879</td>\n",
       "    </tr>\n",
       "    <tr>\n",
       "      <td>1</td>\n",
       "      <td>0.5</td>\n",
       "      <td>1680</td>\n",
       "      <td>0.870</td>\n",
       "      <td>0.96</td>\n",
       "      <td>1931.034483</td>\n",
       "    </tr>\n",
       "    <tr>\n",
       "      <td>2</td>\n",
       "      <td>1.0</td>\n",
       "      <td>1540</td>\n",
       "      <td>0.880</td>\n",
       "      <td>2.12</td>\n",
       "      <td>1750.000000</td>\n",
       "    </tr>\n",
       "    <tr>\n",
       "      <td>3</td>\n",
       "      <td>1.5</td>\n",
       "      <td>1428</td>\n",
       "      <td>0.890</td>\n",
       "      <td>3.21</td>\n",
       "      <td>1604.494382</td>\n",
       "    </tr>\n",
       "    <tr>\n",
       "      <td>4</td>\n",
       "      <td>2.0</td>\n",
       "      <td>1335</td>\n",
       "      <td>0.900</td>\n",
       "      <td>3.92</td>\n",
       "      <td>1483.333333</td>\n",
       "    </tr>\n",
       "  </tbody>\n",
       "</table>\n",
       "</div>"
      ],
      "text/plain": [
       "   Time(years)  Reservoir Pressure(psia)      Z  \\\n",
       "0          0.0                      1798  0.869   \n",
       "1          0.5                      1680  0.870   \n",
       "2          1.0                      1540  0.880   \n",
       "3          1.5                      1428  0.890   \n",
       "4          2.0                      1335  0.900   \n",
       "\n",
       "   Cumulative Gas Produced Gp(MMSCF)          P/Z  \n",
       "0                               0.00  2069.044879  \n",
       "1                               0.96  1931.034483  \n",
       "2                               2.12  1750.000000  \n",
       "3                               3.21  1604.494382  \n",
       "4                               3.92  1483.333333  "
      ]
     },
     "execution_count": 6,
     "metadata": {},
     "output_type": "execute_result"
    }
   ],
   "source": [
    "df['P/Z']=df['Reservoir Pressure(psia)']/df['Z']\n",
    "df"
   ]
  },
  {
   "cell_type": "code",
   "execution_count": 26,
   "metadata": {},
   "outputs": [
    {
     "data": {
      "text/plain": [
       "Text(0.5, 1.0, 'Gas Material Balance')"
      ]
     },
     "execution_count": 26,
     "metadata": {},
     "output_type": "execute_result"
    },
    {
     "data": {
      "image/png": "[encoded data removed]",
      "text/plain": [
       "<Figure size 576x396 with 1 Axes>"
      ]
     },
     "metadata": {
      "needs_background": "light"
     },
     "output_type": "display_data"
    }
   ],
   "source": [
    "x=df['Cumulative Gas Produced Gp(MMSCF)']\n",
    "y=df['P/Z']\n",
    "plt.scatter(x,y,marker='o', color='green')\n",
    "plt.xlabel('Cumulative Gas Produced Gp(MMSCF)')\n",
    "plt.ylabel('P/Z')\n",
    "plt.title('Gas Material Balance')"
   ]
  },
  {
   "cell_type": "code",
   "execution_count": 8,
   "metadata": {},
   "outputs": [
    {
     "data": {
      "text/plain": [
       "array([-148.2874553 , 2070.38439919])"
      ]
     },
     "execution_count": 8,
     "metadata": {},
     "output_type": "execute_result"
    }
   ],
   "source": [
    "model= np.polyfit(x,y, 1)\n",
    "model"
   ]
  },
  {
   "cell_type": "code",
   "execution_count": 9,
   "metadata": {},
   "outputs": [],
   "source": [
    "PZZ = np.arange(2070.38439919,0,-1)\n",
    "GPP = (PZZ-2070.38439919)/-148.2874553"
   ]
  },
  {
   "cell_type": "code",
   "execution_count": 10,
   "metadata": {},
   "outputs": [
    {
     "data": {
      "text/html": [
       "<div>\n",
       "<style scoped>\n",
       "    .dataframe tbody tr th:only-of-type {\n",
       "        vertical-align: middle;\n",
       "    }\n",
       "\n",
       "    .dataframe tbody tr th {\n",
       "        vertical-align: top;\n",
       "    }\n",
       "\n",
       "    .dataframe thead th {\n",
       "        text-align: right;\n",
       "    }\n",
       "</style>\n",
       "<table border=\"1\" class=\"dataframe\">\n",
       "  <thead>\n",
       "    <tr style=\"text-align: right;\">\n",
       "      <th></th>\n",
       "      <th>Cumulative Gas Produced Gp(MMMSCF)</th>\n",
       "      <th>P/Z</th>\n",
       "    </tr>\n",
       "  </thead>\n",
       "  <tbody>\n",
       "    <tr>\n",
       "      <td>0</td>\n",
       "      <td>-0.000000</td>\n",
       "      <td>2070.384399</td>\n",
       "    </tr>\n",
       "    <tr>\n",
       "      <td>1</td>\n",
       "      <td>0.006744</td>\n",
       "      <td>2069.384399</td>\n",
       "    </tr>\n",
       "    <tr>\n",
       "      <td>2</td>\n",
       "      <td>0.013487</td>\n",
       "      <td>2068.384399</td>\n",
       "    </tr>\n",
       "    <tr>\n",
       "      <td>3</td>\n",
       "      <td>0.020231</td>\n",
       "      <td>2067.384399</td>\n",
       "    </tr>\n",
       "    <tr>\n",
       "      <td>4</td>\n",
       "      <td>0.026975</td>\n",
       "      <td>2066.384399</td>\n",
       "    </tr>\n",
       "    <tr>\n",
       "      <td>...</td>\n",
       "      <td>...</td>\n",
       "      <td>...</td>\n",
       "    </tr>\n",
       "    <tr>\n",
       "      <td>2066</td>\n",
       "      <td>13.932399</td>\n",
       "      <td>4.384399</td>\n",
       "    </tr>\n",
       "    <tr>\n",
       "      <td>2067</td>\n",
       "      <td>13.939143</td>\n",
       "      <td>3.384399</td>\n",
       "    </tr>\n",
       "    <tr>\n",
       "      <td>2068</td>\n",
       "      <td>13.945886</td>\n",
       "      <td>2.384399</td>\n",
       "    </tr>\n",
       "    <tr>\n",
       "      <td>2069</td>\n",
       "      <td>13.952630</td>\n",
       "      <td>1.384399</td>\n",
       "    </tr>\n",
       "    <tr>\n",
       "      <td>2070</td>\n",
       "      <td>13.959374</td>\n",
       "      <td>0.384399</td>\n",
       "    </tr>\n",
       "  </tbody>\n",
       "</table>\n",
       "<p>2071 rows × 2 columns</p>\n",
       "</div>"
      ],
      "text/plain": [
       "      Cumulative Gas Produced Gp(MMMSCF)          P/Z\n",
       "0                              -0.000000  2070.384399\n",
       "1                               0.006744  2069.384399\n",
       "2                               0.013487  2068.384399\n",
       "3                               0.020231  2067.384399\n",
       "4                               0.026975  2066.384399\n",
       "...                                  ...          ...\n",
       "2066                           13.932399     4.384399\n",
       "2067                           13.939143     3.384399\n",
       "2068                           13.945886     2.384399\n",
       "2069                           13.952630     1.384399\n",
       "2070                           13.959374     0.384399\n",
       "\n",
       "[2071 rows x 2 columns]"
      ]
     },
     "execution_count": 10,
     "metadata": {},
     "output_type": "execute_result"
    }
   ],
   "source": [
    "Df=pd.DataFrame({'Cumulative Gas Produced Gp(MMMSCF)':GPP, \"P/Z\": PZZ})\n",
    "Df"
   ]
  },
  {
   "cell_type": "code",
   "execution_count": 11,
   "metadata": {},
   "outputs": [
    {
     "data": {
      "text/plain": [
       "0       2070.384399\n",
       "1       2069.384399\n",
       "2       2068.384399\n",
       "3       2067.384399\n",
       "4       2066.384399\n",
       "           ...     \n",
       "2066       4.384399\n",
       "2067       3.384399\n",
       "2068       2.384399\n",
       "2069       1.384399\n",
       "2070       0.384399\n",
       "Name: P/Z, Length: 2071, dtype: float64"
      ]
     },
     "execution_count": 11,
     "metadata": {},
     "output_type": "execute_result"
    }
   ],
   "source": [
    "Df['P/Z']\n",
    "\n"
   ]
  },
  {
   "cell_type": "code",
   "execution_count": 21,
   "metadata": {},
   "outputs": [
    {
     "data": {
      "text/plain": [
       "13.96196593300094"
      ]
     },
     "execution_count": 21,
     "metadata": {},
     "output_type": "execute_result"
    }
   ],
   "source": [
    "Initial_gas_in_place=(0-2070.38439919)/-148.2874553\n",
    "Initial_gas_in_place\n",
    "G=Initial_gas_in_place\n",
    "G"
   ]
  },
  {
   "cell_type": "code",
   "execution_count": 31,
   "metadata": {},
   "outputs": [
    {
     "data": {
      "image/png": "[encoded data removed]",
      "text/plain": [
       "<Figure size 720x504 with 1 Axes>"
      ]
     },
     "metadata": {},
     "output_type": "display_data"
    },
    {
     "name": "stdout",
     "output_type": "stream",
     "text": [
      "The Gas Initially in place is 13.96196593300094 MMMSCF\n"
     ]
    }
   ],
   "source": [
    "plt.style.use('seaborn-whitegrid')\n",
    "plt.figure(figsize=(10,7))\n",
    "plt.plot(Df['Cumulative Gas Produced Gp(MMMSCF)'][1:700], Df['P/Z'][1:700])\n",
    "plt.plot(Df['Cumulative Gas Produced Gp(MMMSCF)'][700:2071], Df['P/Z'][700:2071], ls='-.')\n",
    "plt.scatter(x,y,marker = 'o',color = 'green',label = \"Gas Produced Gp\")\n",
    "plt.scatter(G,5, label = \"Initial Gas in Place G\")\n",
    "plt.xlim(0,18)\n",
    "plt.ylim(1,2200)\n",
    "plt.axvspan(0,4,alpha=0.5,label='Production History', color='aquamarine')\n",
    "plt.xlabel(\"Cumulative Gas Production 'Gp' (MMMSCF)\")\n",
    "plt.ylabel(\"P/Z\")\n",
    "plt.title(\"Gas Material Balance\")\n",
    "plt.legend(loc='upper right')\n",
    "plt.show()\n",
    "print(\"The Gas Initially in place is\",G,\"MMMSCF\")\n"
   ]
  }
 ],
 "metadata": {
  "kernelspec": {
   "display_name": "Python 3",
   "language": "python",
   "name": "python3"
  },
  "language_info": {
   "codemirror_mode": {
    "name": "ipython",
    "version": 3
   },
   "file_extension": ".py",
   "mimetype": "text/x-python",
   "name": "python",
   "nbconvert_exporter": "python",
   "pygments_lexer": "ipython3",
   "version": "3.7.4"
  }
 },
 "nbformat": 4,
 "nbformat_minor": 2
}
